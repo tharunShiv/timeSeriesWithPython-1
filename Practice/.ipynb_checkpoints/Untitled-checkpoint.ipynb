{
 "cells": [
  {
   "cell_type": "code",
   "execution_count": 8,
   "metadata": {
    "collapsed": true
   },
   "outputs": [],
   "source": [
    "import numpy as np\n",
    "import pandas as pd\n",
    "import matplotlib.pyplot as plt"
   ]
  },
  {
   "cell_type": "code",
   "execution_count": 9,
   "metadata": {},
   "outputs": [
    {
     "data": {
      "text/html": [
       "<div>\n",
       "<style>\n",
       "    .dataframe thead tr:only-child th {\n",
       "        text-align: right;\n",
       "    }\n",
       "\n",
       "    .dataframe thead th {\n",
       "        text-align: left;\n",
       "    }\n",
       "\n",
       "    .dataframe tbody tr th {\n",
       "        vertical-align: top;\n",
       "    }\n",
       "</style>\n",
       "<table border=\"1\" class=\"dataframe\">\n",
       "  <thead>\n",
       "    <tr style=\"text-align: right;\">\n",
       "      <th></th>\n",
       "      <th>age</th>\n",
       "      <th>phone</th>\n",
       "    </tr>\n",
       "  </thead>\n",
       "  <tbody>\n",
       "    <tr>\n",
       "      <th>Deepak</th>\n",
       "      <td>12</td>\n",
       "      <td>25541409</td>\n",
       "    </tr>\n",
       "    <tr>\n",
       "      <th>Tharun</th>\n",
       "      <td>11</td>\n",
       "      <td>25578414</td>\n",
       "    </tr>\n",
       "  </tbody>\n",
       "</table>\n",
       "</div>"
      ],
      "text/plain": [
       "        age     phone\n",
       "Deepak   12  25541409\n",
       "Tharun   11  25578414"
      ]
     },
     "execution_count": 9,
     "metadata": {},
     "output_type": "execute_result"
    }
   ],
   "source": [
    "students = pd.DataFrame({'phone':['25541409', '25578414'], 'age':[12, 11]},index ={'Tharun', 'Deepak'})\n",
    "students"
   ]
  },
  {
   "cell_type": "code",
   "execution_count": 13,
   "metadata": {},
   "outputs": [
    {
     "data": {
      "text/plain": [
       "Index(['Deepak', 'Tharun'], dtype='object')"
      ]
     },
     "execution_count": 13,
     "metadata": {},
     "output_type": "execute_result"
    }
   ],
   "source": [
    "students.index\n"
   ]
  },
  {
   "cell_type": "code",
   "execution_count": 15,
   "metadata": {},
   "outputs": [],
   "source": [
    "df = pd.DataFrame(np.random.randn(6,4), index=['Tharun', 'Shiv', 'Narayan', 'Nandi', 'Uma', 'Paru'], columns=list('ABCD'))"
   ]
  },
  {
   "cell_type": "code",
   "execution_count": 16,
   "metadata": {},
   "outputs": [
    {
     "data": {
      "text/html": [
       "<div>\n",
       "<style>\n",
       "    .dataframe thead tr:only-child th {\n",
       "        text-align: right;\n",
       "    }\n",
       "\n",
       "    .dataframe thead th {\n",
       "        text-align: left;\n",
       "    }\n",
       "\n",
       "    .dataframe tbody tr th {\n",
       "        vertical-align: top;\n",
       "    }\n",
       "</style>\n",
       "<table border=\"1\" class=\"dataframe\">\n",
       "  <thead>\n",
       "    <tr style=\"text-align: right;\">\n",
       "      <th></th>\n",
       "      <th>A</th>\n",
       "      <th>B</th>\n",
       "      <th>C</th>\n",
       "      <th>D</th>\n",
       "    </tr>\n",
       "  </thead>\n",
       "  <tbody>\n",
       "    <tr>\n",
       "      <th>Tharun</th>\n",
       "      <td>1.490591</td>\n",
       "      <td>-0.013084</td>\n",
       "      <td>-0.447056</td>\n",
       "      <td>-0.892231</td>\n",
       "    </tr>\n",
       "    <tr>\n",
       "      <th>Shiv</th>\n",
       "      <td>-1.107859</td>\n",
       "      <td>-0.339994</td>\n",
       "      <td>1.379304</td>\n",
       "      <td>-0.418470</td>\n",
       "    </tr>\n",
       "    <tr>\n",
       "      <th>Narayan</th>\n",
       "      <td>-0.731968</td>\n",
       "      <td>-1.292536</td>\n",
       "      <td>-0.148453</td>\n",
       "      <td>0.058893</td>\n",
       "    </tr>\n",
       "    <tr>\n",
       "      <th>Nandi</th>\n",
       "      <td>0.321369</td>\n",
       "      <td>-0.109085</td>\n",
       "      <td>0.391725</td>\n",
       "      <td>-1.155668</td>\n",
       "    </tr>\n",
       "    <tr>\n",
       "      <th>Uma</th>\n",
       "      <td>0.427887</td>\n",
       "      <td>0.767930</td>\n",
       "      <td>0.382892</td>\n",
       "      <td>0.589152</td>\n",
       "    </tr>\n",
       "    <tr>\n",
       "      <th>Paru</th>\n",
       "      <td>0.016926</td>\n",
       "      <td>-0.988562</td>\n",
       "      <td>0.900305</td>\n",
       "      <td>0.113634</td>\n",
       "    </tr>\n",
       "  </tbody>\n",
       "</table>\n",
       "</div>"
      ],
      "text/plain": [
       "                A         B         C         D\n",
       "Tharun   1.490591 -0.013084 -0.447056 -0.892231\n",
       "Shiv    -1.107859 -0.339994  1.379304 -0.418470\n",
       "Narayan -0.731968 -1.292536 -0.148453  0.058893\n",
       "Nandi    0.321369 -0.109085  0.391725 -1.155668\n",
       "Uma      0.427887  0.767930  0.382892  0.589152\n",
       "Paru     0.016926 -0.988562  0.900305  0.113634"
      ]
     },
     "execution_count": 16,
     "metadata": {},
     "output_type": "execute_result"
    }
   ],
   "source": [
    "df"
   ]
  },
  {
   "cell_type": "code",
   "execution_count": null,
   "metadata": {},
   "outputs": [],
   "source": [
    "                                       "
   ]
  },
  {
   "cell_type": "code",
   "execution_count": null,
   "metadata": {
    "collapsed": true
   },
   "outputs": [],
   "source": [
    "                                         *Series Generates 1 D data*"
   ]
  },
  {
   "cell_type": "code",
   "execution_count": null,
   "metadata": {
    "collapsed": true
   },
   "outputs": [],
   "source": []
  },
  {
   "cell_type": "markdown",
   "metadata": {},
   "source": []
  }
 ],
 "metadata": {
  "kernelspec": {
   "display_name": "Python 3",
   "language": "python",
   "name": "python3"
  },
  "language_info": {
   "codemirror_mode": {
    "name": "ipython",
    "version": 3
   },
   "file_extension": ".py",
   "mimetype": "text/x-python",
   "name": "python",
   "nbconvert_exporter": "python",
   "pygments_lexer": "ipython3",
   "version": "3.6.3"
  }
 },
 "nbformat": 4,
 "nbformat_minor": 2
}
