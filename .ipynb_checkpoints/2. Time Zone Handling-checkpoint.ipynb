{
 "cells": [
  {
   "cell_type": "code",
   "execution_count": 1,
   "metadata": {
    "collapsed": true
   },
   "outputs": [],
   "source": [
    "import numpy as np\n",
    "import pandas as pd"
   ]
  },
  {
   "cell_type": "code",
   "execution_count": 2,
   "metadata": {
    "collapsed": true
   },
   "outputs": [],
   "source": [
    "rng = pd.date_range('3/6/2012 00:00', periods = 15, freq = 'D')\n",
    "rng.tz"
   ]
  },
  {
   "cell_type": "code",
   "execution_count": 3,
   "metadata": {},
   "outputs": [
    {
     "data": {
      "text/plain": [
       "<DstTzInfo 'Europe/London' LMT-1 day, 23:59:00 STD>"
      ]
     },
     "execution_count": 3,
     "metadata": {},
     "output_type": "execute_result"
    }
   ],
   "source": [
    "rng_tz = pd.date_range('3/6/2012 00:00', periods = 15, freq = 'D', tz = 'Europe/London')\n",
    "rng_tz.tz"
   ]
  },
  {
   "cell_type": "code",
   "execution_count": 4,
   "metadata": {},
   "outputs": [
    {
     "name": "stdout",
     "output_type": "stream",
     "text": [
      "439\n",
      "593\n",
      "{'Etc/GMT', 'ROC', 'PST8PDT', 'Australia/South', 'US/Samoa', 'Egypt', 'Asia/Macao', 'Asia/Tel_Aviv', 'US/East-Indiana', 'Israel', 'Etc/GMT+8', 'America/Indianapolis', 'Mexico/BajaNorte', 'Asia/Ulan_Bator', 'Etc/GMT+5', 'Etc/GMT-0', 'Asia/Thimbu', 'Canada/Yukon', 'Atlantic/Faeroe', 'NZ-CHAT', 'US/Aleutian', 'UCT', 'Australia/LHI', 'Europe/Nicosia', 'Asia/Ashkhabad', 'Australia/NSW', 'Asia/Kashgar', 'America/Coral_Harbour', 'America/Jujuy', 'Antarctica/South_Pole', 'Cuba', 'Australia/West', 'Pacific/Ponape', 'America/Atka', 'America/Porto_Acre', 'W-SU', 'EST', 'Etc/GMT+9', 'Etc/GMT-8', 'Brazil/East', 'Africa/Timbuktu', 'GB', 'Libya', 'Iran', 'MET', 'Asia/Dacca', 'Etc/GMT-1', 'Zulu', 'GB-Eire', 'Atlantic/Jan_Mayen', 'Etc/GMT+0', 'GMT+0', 'Mexico/General', 'Etc/GMT-10', 'Navajo', 'Etc/GMT+4', 'Pacific/Samoa', 'Etc/GMT-5', 'Pacific/Yap', 'America/Cordoba', 'Canada/Saskatchewan', 'MST7MDT', 'Etc/Universal', 'Australia/Yancowinna', 'Etc/GMT+6', 'Portugal', 'Etc/GMT+10', 'Asia/Saigon', 'Brazil/DeNoronha', 'ROK', 'Australia/Queensland', 'Eire', 'Pacific/Johnston', 'America/Buenos_Aires', 'CST6CDT', 'Etc/GMT-11', 'Etc/UTC', 'Etc/GMT-2', 'Chile/Continental', 'America/Mendoza', 'Europe/Belfast', 'NZ', 'America/Ensenada', 'Etc/GMT-7', 'Poland', 'Australia/North', 'Kwajalein', 'Asia/Chongqing', 'America/Knox_IN', 'MST', 'Africa/Asmera', 'Etc/GMT-13', 'Etc/GMT+12', 'Etc/GMT-9', 'Etc/UCT', 'EST5EDT', 'PRC', 'Etc/GMT+3', 'Australia/Canberra', 'Jamaica', 'Etc/GMT-3', 'America/Santa_Isabel', 'Europe/Tiraspol', 'Australia/Victoria', 'America/Montreal', 'Etc/GMT+1', 'America/Louisville', 'Asia/Istanbul', 'Japan', 'Canada/East-Saskatchewan', 'Etc/GMT-4', 'Asia/Katmandu', 'Etc/GMT-14', 'Iceland', 'Singapore', 'America/Rosario', 'Turkey', 'WET', 'Asia/Ujung_Pandang', 'Australia/Tasmania', 'Brazil/Acre', 'Mexico/BajaSur', 'Etc/GMT+2', 'Etc/GMT-6', 'America/Fort_Wayne', 'America/Virgin', 'Etc/Zulu', 'Etc/GMT-12', 'Asia/Calcutta', 'Asia/Chungking', 'US/Michigan', 'Australia/ACT', 'America/Argentina/ComodRivadavia', 'HST', 'Brazil/West', 'Asia/Rangoon', 'Pacific/Truk', 'Universal', 'US/Pacific-New', 'America/Catamarca', 'Etc/Greenwich', 'Greenwich', 'Etc/GMT+11', 'Etc/GMT0', 'GMT0', 'America/Shiprock', 'Etc/GMT+7', 'EET', 'Asia/Harbin', 'Hongkong', 'GMT-0', 'CET', 'Chile/EasterIsland', 'US/Indiana-Starke'}\n"
     ]
    }
   ],
   "source": [
    "from pytz import common_timezones, all_timezones\n",
    "print(len(common_timezones))\n",
    "print(len(all_timezones))\n",
    "print(set(all_timezones) - set(common_timezones))"
   ]
  },
  {
   "cell_type": "code",
   "execution_count": null,
   "metadata": {},
   "outputs": [],
   "source": [
    "# You can also localize a naive timestamp\n",
    "t_naive = pd.Timestamp('2016-07-10 08:50')\n",
    "t_naive"
   ]
  },
  {
   "cell_type": "code",
   "execution_count": null,
   "metadata": {},
   "outputs": [],
   "source": [
    "t = t_naive.tz_localize(tz = 'US/Central')\n",
    "t"
   ]
  },
  {
   "cell_type": "code",
   "execution_count": null,
   "metadata": {},
   "outputs": [],
   "source": [
    "t.tz_convert('Asia/Tokyo')"
   ]
  },
  {
   "cell_type": "code",
   "execution_count": null,
   "metadata": {},
   "outputs": [],
   "source": [
    "# how to handle daylight savings?\n",
    "rng = pd.date_range('2016-03-10', periods=10, tz='US/Central')\n",
    "ts = pd.Series(range(10), index=rng)\n",
    "ts"
   ]
  },
  {
   "cell_type": "code",
   "execution_count": null,
   "metadata": {},
   "outputs": [],
   "source": [
    "rng = pd.date_range('2016-03-10', periods=10, tz='utc')\n",
    "ts = pd.Series(range(10), index=rng)\n",
    "ts"
   ]
  },
  {
   "cell_type": "code",
   "execution_count": null,
   "metadata": {},
   "outputs": [],
   "source": [
    "ts.tz_convert('US/Central')"
   ]
  },
  {
   "cell_type": "code",
   "execution_count": null,
   "metadata": {},
   "outputs": [],
   "source": [
    "pd.date_range('03-12-2016 22:00', periods = 12, freq = 'H', tz = 'US/Eastern')"
   ]
  },
  {
   "cell_type": "code",
   "execution_count": null,
   "metadata": {},
   "outputs": [],
   "source": [
    "# May autocorrect an error rather than giving you a non-existent time error\n",
    "pd.Timestamp('2016-03-13 02:00', tz = 'US/Eastern')"
   ]
  },
  {
   "cell_type": "code",
   "execution_count": null,
   "metadata": {
    "collapsed": true
   },
   "outputs": [],
   "source": []
  }
 ],
 "metadata": {
  "kernelspec": {
   "display_name": "Python 3",
   "language": "python",
   "name": "python3"
  },
  "language_info": {
   "codemirror_mode": {
    "name": "ipython",
    "version": 3
   },
   "file_extension": ".py",
   "mimetype": "text/x-python",
   "name": "python",
   "nbconvert_exporter": "python",
   "pygments_lexer": "ipython3",
   "version": "3.6.3"
  },
  "widgets": {
   "state": {},
   "version": "1.1.1"
  }
 },
 "nbformat": 4,
 "nbformat_minor": 1
}
