{
 "cells": [
  {
   "cell_type": "code",
   "execution_count": 1,
   "metadata": {
    "collapsed": true,
    "nbpresent": {
     "id": "5beaede9-18e1-411a-9555-cbb4b9036ec2"
    }
   },
   "outputs": [],
   "source": [
    "import pandas as pd"
   ]
  },
  {
   "cell_type": "code",
   "execution_count": 3,
   "metadata": {
    "collapsed": false,
    "nbpresent": {
     "id": "73964265-ad5f-4ed8-8466-20489037de70"
    }
   },
   "outputs": [
    {
     "data": {
      "text/plain": [
       "<matplotlib.axes._subplots.AxesSubplot at 0x573f13e438>"
      ]
     },
     "execution_count": 3,
     "metadata": {},
     "output_type": "execute_result"
    },
    {
     "data": {
      "image/png": "[encoded data removed]",
      "text/plain": [
       "<matplotlib.figure.Figure at 0x573f1de828>"
      ]
     },
     "metadata": {},
     "output_type": "display_data"
    }
   ],
   "source": [
    "ts = pd.Series([1,2,3,2,8,4,0,9,2,8,7,6], index = pd.date_range('12 Jul 2017', periods=12, freq='H'))\n",
    "ts.plot()"
   ]
  },
  {
   "cell_type": "code",
   "execution_count": null,
   "metadata": {
    "collapsed": true
   },
   "outputs": [],
   "source": []
  }
 ],
 "metadata": {
  "anaconda-cloud": {},
  "kernelspec": {
   "display_name": "Python [conda env:Anaconda3]",
   "language": "python",
   "name": "conda-env-Anaconda3-py"
  },
  "language_info": {
   "codemirror_mode": {
    "name": "ipython",
    "version": 3
   },
   "file_extension": ".py",
   "mimetype": "text/x-python",
   "name": "python",
   "nbconvert_exporter": "python",
   "pygments_lexer": "ipython3",
   "version": "3.5.4"
  },
  "nbpresent": {
   "slides": {
    "0a79f0e7-9c1d-4d95-859e-7c269bd39b2d": {
     "id": "0a79f0e7-9c1d-4d95-859e-7c269bd39b2d",
     "layout": "grid",
     "prev": null,
     "regions": {
      "2813883c-5014-4f4d-94ce-5318166390b0": {
       "attrs": {
        "height": 0.75,
        "pad": 0.01,
        "treemap:weight": 1,
        "width": 0.3333333333333333,
        "x": 0,
        "y": 0
       },
       "id": "2813883c-5014-4f4d-94ce-5318166390b0"
      },
      "3774bcba-236d-4c86-8777-d1a58985433a": {
       "attrs": {
        "height": 0.25,
        "pad": 0.01,
        "treemap:weight": 1,
        "width": 1,
        "x": 0,
        "y": 0.75
       },
       "content": {
        "cell": "5beaede9-18e1-411a-9555-cbb4b9036ec2",
        "part": "source"
       },
       "id": "3774bcba-236d-4c86-8777-d1a58985433a"
      },
      "8e0d5d11-7dfd-468c-b610-2e587283df8f": {
       "attrs": {
        "height": 0.75,
        "pad": 0.01,
        "treemap:weight": 1,
        "width": 0.3333333333333333,
        "x": 0.3333333333333333,
        "y": 0
       },
       "id": "8e0d5d11-7dfd-468c-b610-2e587283df8f"
      },
      "b4a7be9a-f0ab-4b04-b469-a7d557e8186c": {
       "attrs": {
        "height": 0.75,
        "pad": 0.01,
        "treemap:weight": 1,
        "width": 0.3333333333333333,
        "x": 0.6666666666666666,
        "y": 0
       },
       "id": "b4a7be9a-f0ab-4b04-b469-a7d557e8186c"
      }
     }
    },
    "59df560d-064f-4e14-a982-c72390af3650": {
     "id": "59df560d-064f-4e14-a982-c72390af3650",
     "prev": "0a79f0e7-9c1d-4d95-859e-7c269bd39b2d",
     "regions": {
      "4af00241-0e36-4d07-a94b-d819487427bf": {
       "attrs": {
        "height": 1,
        "width": 1,
        "x": 0,
        "y": 0
       },
       "content": {
        "cell": "73964265-ad5f-4ed8-8466-20489037de70",
        "part": "source"
       },
       "id": "4af00241-0e36-4d07-a94b-d819487427bf"
      }
     }
    },
    "f6225467-a218-4218-8749-fb98e88687ae": {
     "id": "f6225467-a218-4218-8749-fb98e88687ae",
     "prev": "59df560d-064f-4e14-a982-c72390af3650",
     "regions": {
      "19e8cf78-7c76-4891-9dc2-8906781068a3": {
       "attrs": {
        "height": 1,
        "width": 1,
        "x": 0,
        "y": 0
       },
       "content": {
        "cell": "73964265-ad5f-4ed8-8466-20489037de70",
        "part": "outputs"
       },
       "id": "19e8cf78-7c76-4891-9dc2-8906781068a3"
      }
     }
    }
   },
   "themes": {}
  }
 },
 "nbformat": 4,
 "nbformat_minor": 2
}
